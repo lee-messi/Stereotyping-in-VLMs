{
 "cells": [
  {
   "cell_type": "code",
   "execution_count": 1,
   "metadata": {},
   "outputs": [
    {
     "name": "stderr",
     "output_type": "stream",
     "text": [
      "/opt/anaconda3/envs/multi/lib/python3.11/site-packages/tqdm/auto.py:21: TqdmWarning: IProgress not found. Please update jupyter and ipywidgets. See https://ipywidgets.readthedocs.io/en/stable/user_install.html\n",
      "  from .autonotebook import tqdm as notebook_tqdm\n"
     ]
    }
   ],
   "source": [
    "import numpy as np\n",
    "import pandas as pd\n",
    "from sentence_transformers import SentenceTransformer, util"
   ]
  },
  {
   "cell_type": "code",
   "execution_count": 2,
   "metadata": {},
   "outputs": [],
   "source": [
    "data = pd.read_csv('../../Data/prelim_study.csv')\n",
    "black = data.query(\"race == 'black'\")\n",
    "white = data.query(\"race == 'white'\")"
   ]
  },
  {
   "cell_type": "markdown",
   "metadata": {},
   "source": [
    "## Define Functions"
   ]
  },
  {
   "cell_type": "code",
   "execution_count": 3,
   "metadata": {},
   "outputs": [],
   "source": [
    "def return_cosines(model_name, list_of_text):\n",
    "    model = SentenceTransformer(model_name)\n",
    "    embedding = model.encode(list_of_text)\n",
    "    cosines = util.cos_sim(embedding, embedding)\n",
    "    return(cosines[np.triu_indices(len(list_of_text),1)])"
   ]
  },
  {
   "cell_type": "markdown",
   "metadata": {},
   "source": [
    "## Results using all-mpnet-base-v2"
   ]
  },
  {
   "cell_type": "code",
   "execution_count": 4,
   "metadata": {},
   "outputs": [],
   "source": [
    "mpnetbase_black = return_cosines('sentence-transformers/all-mpnet-base-v2', list(black.text))\n",
    "mpnetbase_white = return_cosines('sentence-transformers/all-mpnet-base-v2', list(white.text))"
   ]
  },
  {
   "cell_type": "code",
   "execution_count": 5,
   "metadata": {},
   "outputs": [],
   "source": [
    "mpnetbase_cosines = np.append(mpnetbase_black.numpy(), mpnetbase_white.numpy())\n",
    "mpnetbase_model = ['all-mpnet-base-v2'] * len(mpnetbase_cosines)\n",
    "mpnetbase_race = ['African Americans' for _ in range(len(mpnetbase_black))] + ['White Americans' for _ in range(len(mpnetbase_white))]\n",
    "mpnetbase_df = pd.DataFrame({'model': mpnetbase_model, 'race': mpnetbase_race, 'cosine': mpnetbase_cosines})\n",
    "mpnetbase_df.to_csv('../Cosine/mpnetbase.csv', index = False)"
   ]
  },
  {
   "cell_type": "markdown",
   "metadata": {},
   "source": [
    "## Results using all-distilroberta-v1"
   ]
  },
  {
   "cell_type": "code",
   "execution_count": 6,
   "metadata": {},
   "outputs": [],
   "source": [
    "distilroberta_black = return_cosines('sentence-transformers/all-distilroberta-v1', list(black.text))\n",
    "distilroberta_white = return_cosines('sentence-transformers/all-distilroberta-v1', list(white.text))"
   ]
  },
  {
   "cell_type": "code",
   "execution_count": 7,
   "metadata": {},
   "outputs": [],
   "source": [
    "distilroberta_cosines = np.append(distilroberta_black.numpy(), distilroberta_white.numpy())\n",
    "distilroberta_model = ['all-distilroberta-v1'] * len(distilroberta_cosines)\n",
    "distilroberta_race = ['African Americans' for _ in range(len(distilroberta_black))] + ['White Americans' for _ in range(len(distilroberta_white))]\n",
    "distilroberta_df = pd.DataFrame({'model': distilroberta_model, 'race': distilroberta_race, 'cosine': distilroberta_cosines})\n",
    "distilroberta_df.to_csv('../Cosine/distilroberta.csv', index = False)"
   ]
  },
  {
   "cell_type": "markdown",
   "metadata": {},
   "source": [
    "## Results using all-MiniLM-L12-v2"
   ]
  },
  {
   "cell_type": "code",
   "execution_count": 8,
   "metadata": {},
   "outputs": [],
   "source": [
    "allminilm_black = return_cosines('sentence-transformers/all-MiniLM-L12-v2', list(black.text))\n",
    "allminilm_white = return_cosines('sentence-transformers/all-MiniLM-L12-v2', list(white.text))"
   ]
  },
  {
   "cell_type": "code",
   "execution_count": 9,
   "metadata": {},
   "outputs": [],
   "source": [
    "allminilm_cosines = np.append(allminilm_black.numpy(), allminilm_white.numpy())\n",
    "allminilm_model = ['all-MiniLM-L12-v2'] * len(allminilm_cosines)\n",
    "allminilm_race = ['African Americans' for _ in range(len(allminilm_black))] + ['White Americans' for _ in range(len(allminilm_white))]\n",
    "allminilm_df = pd.DataFrame({'model': allminilm_model, 'race': allminilm_race, 'cosine': allminilm_cosines})\n",
    "allminilm_df.to_csv('../Cosine/allminilm.csv', index = False)"
   ]
  }
 ],
 "metadata": {
  "kernelspec": {
   "display_name": "tensorflow",
   "language": "python",
   "name": "python3"
  },
  "language_info": {
   "codemirror_mode": {
    "name": "ipython",
    "version": 3
   },
   "file_extension": ".py",
   "mimetype": "text/x-python",
   "name": "python",
   "nbconvert_exporter": "python",
   "pygments_lexer": "ipython3",
   "version": "3.11.5"
  },
  "orig_nbformat": 4
 },
 "nbformat": 4,
 "nbformat_minor": 2
}
