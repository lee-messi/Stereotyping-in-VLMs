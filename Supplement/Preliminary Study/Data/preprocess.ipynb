{
 "cells": [
  {
   "cell_type": "code",
   "execution_count": null,
   "metadata": {},
   "outputs": [],
   "source": [
    "import pandas as pd"
   ]
  },
  {
   "cell_type": "code",
   "execution_count": null,
   "metadata": {},
   "outputs": [],
   "source": [
    "day_1 = pd.read_csv('../Data/day_1.csv')\n",
    "day_2 = pd.read_csv('../Data/day_2.csv')\n",
    "data = pd.concat([day_1, day_2])"
   ]
  },
  {
   "cell_type": "code",
   "execution_count": null,
   "metadata": {},
   "outputs": [],
   "source": [
    "non_compliance = [\"Unable to identify\", \"Unable to view\", \"unable to provide\", \"cannot provide assumption\", \"cannot provide information\", \"make assumptions about\", \"won't speculate or create stories\", \"cannot see images\", \"cannot provide assistance\", \"can't provide assistance\", \"sorry\", \"Sorry\", \"fictional\", \"image\", \"cannot assist\", \"can't assist\"]\n",
    "regex_pattern = '|'.join([f'\\\\b{phrase}\\\\b' for phrase in non_compliance])\n",
    "\n",
    "data_filtered = data[~data['text'].str.contains(regex_pattern, case=False, na=False)]"
   ]
  },
  {
   "cell_type": "code",
   "execution_count": null,
   "metadata": {},
   "outputs": [],
   "source": [
    "data_filtered.to_csv('prelim_study.csv', index = False)"
   ]
  }
 ],
 "metadata": {
  "kernelspec": {
   "display_name": "tensorflow",
   "language": "python",
   "name": "python3"
  },
  "language_info": {
   "codemirror_mode": {
    "name": "ipython",
    "version": 3
   },
   "file_extension": ".py",
   "mimetype": "text/x-python",
   "name": "python",
   "nbconvert_exporter": "python",
   "pygments_lexer": "ipython3",
   "version": "3.11.5"
  },
  "orig_nbformat": 4
 },
 "nbformat": 4,
 "nbformat_minor": 2
}
