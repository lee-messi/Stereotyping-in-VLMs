{
 "cells": [
  {
   "cell_type": "code",
   "execution_count": 1,
   "metadata": {},
   "outputs": [],
   "source": [
    "import pandas as pd"
   ]
  },
  {
   "cell_type": "code",
   "execution_count": 2,
   "metadata": {},
   "outputs": [],
   "source": [
    "day_1 = pd.read_csv('../Data/day_1.csv')\n",
    "day_2 = pd.read_csv('../Data/day_2.csv')\n",
    "day_3 = pd.read_csv('../Data/day_3.csv')\n",
    "day_4 = pd.read_csv('../Data/day_4.csv')\n",
    "day_5 = pd.read_csv('../Data/day_5.csv')\n",
    "day_6 = pd.read_csv('../Data/day_6.csv')\n",
    "day_7 = pd.read_csv('../Data/day_7.csv')\n",
    "day_8 = pd.read_csv('../Data/day_8.csv')\n",
    "day_9 = pd.read_csv('../Data/day_9.csv')\n",
    "data = pd.concat([day_1, day_2, day_3, day_4, day_5, day_6, day_7, day_8, day_9])"
   ]
  },
  {
   "cell_type": "code",
   "execution_count": 3,
   "metadata": {},
   "outputs": [],
   "source": [
    "non_compliance = [\"As an AI\", \"In the photo\", \"In the photograph\", \"As a language model\", \"following story is a piece of fiction\", \"following narrative is a work of fiction\", \"Unable to identify\", \"Unable to view\", \"unable to provide\", \"cannot provide assumption\", \"cannot provide information\", \"make assumptions about\", \"won't speculate or create stories\", \"cannot see images\", \"cannot provide assistance\", \"can't provide assistance\", \"sorry\", \"Sorry\", \"fictional\", \"image\", \"cannot assist\", \"can't assist\"]\n",
    "regex_pattern = '|'.join([f'\\\\b{phrase}\\\\b' for phrase in non_compliance])\n",
    "\n",
    "data_filtered = data[~data['text'].str.contains(regex_pattern, case=False, na=False)]"
   ]
  },
  {
   "cell_type": "code",
   "execution_count": 4,
   "metadata": {},
   "outputs": [],
   "source": [
    "data_filtered.to_csv('study_2.csv', index = False)"
   ]
  }
 ],
 "metadata": {
  "kernelspec": {
   "display_name": "tensorflow",
   "language": "python",
   "name": "python3"
  },
  "language_info": {
   "codemirror_mode": {
    "name": "ipython",
    "version": 3
   },
   "file_extension": ".py",
   "mimetype": "text/x-python",
   "name": "python",
   "nbconvert_exporter": "python",
   "pygments_lexer": "ipython3",
   "version": "3.11.4"
  },
  "orig_nbformat": 4
 },
 "nbformat": 4,
 "nbformat_minor": 2
}
