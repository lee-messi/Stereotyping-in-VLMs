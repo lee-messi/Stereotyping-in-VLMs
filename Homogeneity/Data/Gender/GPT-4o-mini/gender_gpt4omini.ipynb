{
 "cells": [
  {
   "cell_type": "code",
   "execution_count": 1,
   "metadata": {},
   "outputs": [],
   "source": [
    "import numpy as np\n",
    "import pandas as pd\n",
    "from scipy import stats\n",
    "from sklearn.metrics.pairwise import cosine_similarity\n",
    "from sentence_transformers import SentenceTransformer, util"
   ]
  },
  {
   "cell_type": "code",
   "execution_count": 2,
   "metadata": {},
   "outputs": [],
   "source": [
    "data = pd.read_csv('../../Data/study_2.csv')\n",
    "study_2 = data.to_dict()"
   ]
  },
  {
   "cell_type": "markdown",
   "metadata": {},
   "source": [
    "## Define Functions"
   ]
  },
  {
   "cell_type": "code",
   "execution_count": 3,
   "metadata": {},
   "outputs": [],
   "source": [
    "def cosines_by_image(model_name, data_dict):\n",
    "\n",
    "    model = SentenceTransformer(model_name)\n",
    "    embeddings = model.encode(list(data_dict['text'].values()))\n",
    "    data_dict['embedding'] = embeddings\n",
    "     \n",
    "    # Initialize containers for results\n",
    "    cosine_sim_results = []\n",
    "\n",
    "    # Process embeddings by gender\n",
    "    genders = set(data_dict['gender'].values()) # Identify unique genders\n",
    "\n",
    "    for gender in genders:\n",
    "\n",
    "        # Initialize lists to hold gender-specific embeddings and images\n",
    "        gender_embeddings = []\n",
    "        gender_images = []\n",
    "\n",
    "        for i in range(len(data_dict['gender'])):\n",
    "            \n",
    "            if data_dict['gender'][i] == gender:\n",
    "                gender_embeddings.append(data_dict['embedding'][i])\n",
    "                gender_images.append(data_dict['image'][i])\n",
    "\n",
    "        # Now, calculate pairwise cosine similarity for the current gender\n",
    "        for i in range(len(gender_embeddings)):\n",
    "            for j in range(i + 1, len(gender_embeddings)):\n",
    "                # Calculate cosine similarity\n",
    "                sim = cosine_similarity([gender_embeddings[i]], [gender_embeddings[j]])[0][0]\n",
    "                \n",
    "                # Append result\n",
    "                cosine_sim_results.append({\n",
    "                    'gender': gender,\n",
    "                    'image_1': gender_images[i],\n",
    "                    'image_2': gender_images[j],\n",
    "                    'cosine_similarity': sim\n",
    "                })\n",
    "\n",
    "    results_df = pd.DataFrame(cosine_sim_results)\n",
    "    return(results_df)"
   ]
  },
  {
   "cell_type": "code",
   "execution_count": 4,
   "metadata": {},
   "outputs": [
    {
     "name": "stderr",
     "output_type": "stream",
     "text": [
      "/Users/a1048596/anaconda3/lib/python3.11/site-packages/torch/_utils.py:831: UserWarning: TypedStorage is deprecated. It will be removed in the future and UntypedStorage will be the only storage class. This should only matter to you if you are using storages directly.  To access UntypedStorage directly, use tensor.untyped_storage() instead of tensor.storage()\n",
      "  return self.fget.__get__(instance, owner)()\n"
     ]
    }
   ],
   "source": [
    "mpnetbase_df = cosines_by_image('sentence-transformers/all-mpnet-base-v2', study_2)\n",
    "mpnetbase_df.to_csv('../Cosine/mpnetbase.csv', index = False)"
   ]
  },
  {
   "cell_type": "code",
   "execution_count": 5,
   "metadata": {},
   "outputs": [],
   "source": [
    "distilroberta_df = cosines_by_image('sentence-transformers/all-distilroberta-v1', study_2)\n",
    "distilroberta_df.to_csv('../Cosine/distilroberta.csv', index = False)"
   ]
  },
  {
   "cell_type": "code",
   "execution_count": 6,
   "metadata": {},
   "outputs": [],
   "source": [
    "allminilm_df = cosines_by_image('sentence-transformers/all-MiniLM-L12-v2', study_2)\n",
    "allminilm_df.to_csv('../Cosine/allminilm.csv', index = False)"
   ]
  }
 ],
 "metadata": {
  "kernelspec": {
   "display_name": "tensorflow",
   "language": "python",
   "name": "python3"
  },
  "language_info": {
   "codemirror_mode": {
    "name": "ipython",
    "version": 3
   },
   "file_extension": ".py",
   "mimetype": "text/x-python",
   "name": "python",
   "nbconvert_exporter": "python",
   "pygments_lexer": "ipython3",
   "version": "3.11.4"
  },
  "orig_nbformat": 4
 },
 "nbformat": 4,
 "nbformat_minor": 2
}
