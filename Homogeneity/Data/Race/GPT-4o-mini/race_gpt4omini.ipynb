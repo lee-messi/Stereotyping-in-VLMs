{
 "cells": [
  {
   "cell_type": "code",
   "execution_count": 1,
   "metadata": {},
   "outputs": [],
   "source": [
    "import numpy as np\n",
    "import pandas as pd\n",
    "from scipy import stats\n",
    "from sklearn.metrics.pairwise import cosine_similarity\n",
    "from sentence_transformers import SentenceTransformer, util"
   ]
  },
  {
   "cell_type": "code",
   "execution_count": 2,
   "metadata": {},
   "outputs": [],
   "source": [
    "data = pd.read_csv('../../Data/study_1.csv')\n",
    "study_1 = data.to_dict()"
   ]
  },
  {
   "cell_type": "markdown",
   "metadata": {},
   "source": [
    "## Define Functions"
   ]
  },
  {
   "cell_type": "code",
   "execution_count": 3,
   "metadata": {},
   "outputs": [],
   "source": [
    "def cosines_by_image(model_name, data_dict):\n",
    "\n",
    "    model = SentenceTransformer(model_name)\n",
    "    embeddings = model.encode(list(data_dict['text'].values()))\n",
    "    data_dict['embedding'] = embeddings\n",
    "     \n",
    "    # Initialize containers for results\n",
    "    cosine_sim_results = []\n",
    "\n",
    "    # Process embeddings by race\n",
    "    races = set(data_dict['race'].values()) # Identify unique races\n",
    "\n",
    "    for race in races:\n",
    "\n",
    "        # Initialize lists to hold race-specific embeddings and images\n",
    "        race_embeddings = []\n",
    "        race_images = []\n",
    "\n",
    "        for i in range(len(data_dict['race'])):\n",
    "            \n",
    "            if data_dict['race'][i] == race:\n",
    "                race_embeddings.append(data_dict['embedding'][i])\n",
    "                race_images.append(data_dict['image'][i])\n",
    "\n",
    "        # Now, calculate pairwise cosine similarity for the current race\n",
    "        for i in range(len(race_embeddings)):\n",
    "            for j in range(i + 1, len(race_embeddings)):\n",
    "                # Calculate cosine similarity\n",
    "                sim = cosine_similarity([race_embeddings[i]], [race_embeddings[j]])[0][0]\n",
    "                \n",
    "                # Append result\n",
    "                cosine_sim_results.append({\n",
    "                    'race': race,\n",
    "                    'image_1': race_images[i],\n",
    "                    'image_2': race_images[j],\n",
    "                    'cosine_similarity': sim\n",
    "                })\n",
    "\n",
    "    results_df = pd.DataFrame(cosine_sim_results)\n",
    "    return(results_df)"
   ]
  },
  {
   "cell_type": "code",
   "execution_count": 4,
   "metadata": {},
   "outputs": [
    {
     "name": "stderr",
     "output_type": "stream",
     "text": [
      "/Users/a1048596/anaconda3/lib/python3.11/site-packages/torch/_utils.py:831: UserWarning: TypedStorage is deprecated. It will be removed in the future and UntypedStorage will be the only storage class. This should only matter to you if you are using storages directly.  To access UntypedStorage directly, use tensor.untyped_storage() instead of tensor.storage()\n",
      "  return self.fget.__get__(instance, owner)()\n"
     ]
    }
   ],
   "source": [
    "mpnetbase_df = cosines_by_image('sentence-transformers/all-mpnet-base-v2', study_1)\n",
    "mpnetbase_df.to_csv('../Cosine/mpnetbase.csv', index = False)"
   ]
  },
  {
   "cell_type": "code",
   "execution_count": 5,
   "metadata": {},
   "outputs": [],
   "source": [
    "distilroberta_df = cosines_by_image('sentence-transformers/all-distilroberta-v1', study_1)\n",
    "distilroberta_df.to_csv('../Cosine/distilroberta.csv', index = False)"
   ]
  },
  {
   "cell_type": "code",
   "execution_count": 6,
   "metadata": {},
   "outputs": [],
   "source": [
    "allminilm_df = cosines_by_image('sentence-transformers/all-MiniLM-L12-v2', study_1)\n",
    "allminilm_df.to_csv('../Cosine/allminilm.csv', index = False)"
   ]
  }
 ],
 "metadata": {
  "kernelspec": {
   "display_name": "tensorflow",
   "language": "python",
   "name": "python3"
  },
  "language_info": {
   "codemirror_mode": {
    "name": "ipython",
    "version": 3
   },
   "file_extension": ".py",
   "mimetype": "text/x-python",
   "name": "python",
   "nbconvert_exporter": "python",
   "pygments_lexer": "ipython3",
   "version": "3.11.4"
  },
  "orig_nbformat": 4
 },
 "nbformat": 4,
 "nbformat_minor": 2
}
